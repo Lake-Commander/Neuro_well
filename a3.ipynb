{
  "cells": [
    {
      "cell_type": "markdown",
      "metadata": {
        "id": "view-in-github",
        "colab_type": "text"
      },
      "source": [
        "<a href=\"https://colab.research.google.com/github/Lake-Commander/Neuro_well/blob/main/a3.ipynb\" target=\"_parent\"><img src=\"https://colab.research.google.com/assets/colab-badge.svg\" alt=\"Open In Colab\"/></a>"
      ]
    },
    {
      "cell_type": "markdown",
      "id": "a89aae40",
      "metadata": {
        "id": "a89aae40"
      },
      "source": [
        "## Prelimiminary Research to understand the concept"
      ]
    },
    {
      "cell_type": "markdown",
      "source": [
        "🔹 1. What is Employee Burnout?\n",
        "Employee burnout is a psychological syndrome emerging as a prolonged response to chronic interpersonal stressors on the job. It has three main dimensions:\n",
        "\n",
        "Emotional exhaustion (feeling drained and fatigued),\n",
        "\n",
        "Depersonalization (cynicism and detachment from work),\n",
        "\n",
        "Reduced personal accomplishment (feeling ineffective at work).\n",
        "\n",
        "Burnout has been classified by the World Health Organization (WHO) as an “occupational phenomenon,” not a medical condition.\n",
        "\n",
        "🔹 2. Organizational Impact of Burnout\n",
        "Burnout is not just a personal health issue—it’s a major organizational risk. Its consequences include:\n",
        "\n",
        "Impact Area\tDescription\n",
        "Productivity\tBurned-out employees are less efficient and more prone to errors.\n",
        "Turnover\tIncreases employee attrition rates and recruitment costs.\n",
        "Workplace Morale\tCreates a toxic or disengaged environment, affecting team dynamics.\n",
        "Healthcare Costs\tLeads to higher rates of absenteeism and stress-related illnesses.\n",
        "Reputation\tCompanies that don't prioritize employee well-being may struggle to attract top talent.\n",
        "\n",
        "🔹 3. Why Use Data to Predict Burnout?\n",
        "Data-driven approaches help organizations move from reactive to proactive well-being strategies:\n",
        "\n",
        "Benefit\tDescription\n",
        "Early Warning\tIdentify at-risk employees before burnout manifests severely.\n",
        "Resource Optimization\tAllocate tasks, support, and interventions more effectively.\n",
        "Tailored Interventions\tDevelop programs based on actual needs, not assumptions.\n",
        "Strategic Planning\tInform HR policies and leadership decisions with facts.\n",
        "Continuous Improvement\tMonitor the effectiveness of wellness initiatives over time.\n",
        "\n",
        "🧩 In Summary:\n",
        "Employee burnout is a measurable, preventable, and solvable workplace challenge. Predictive analytics allows companies like NeuroWell Analytics to lead the charge in promoting workplace mental health with precision and impact."
      ],
      "metadata": {
        "id": "e7ab5e29"
      },
      "id": "e7ab5e29"
    },
    {
      "cell_type": "markdown",
      "id": "0faa520b",
      "metadata": {
        "id": "0faa520b"
      },
      "source": [
        "## Imports"
      ]
    },
    {
      "cell_type": "code",
      "execution_count": 4,
      "id": "57045cc7",
      "metadata": {
        "id": "57045cc7"
      },
      "outputs": [],
      "source": [
        "# Data manipulation and analysis\n",
        "import pandas as pd\n",
        "import numpy as np\n",
        "\n",
        "# Visualization\n",
        "import seaborn as sns\n",
        "import matplotlib.pyplot as plt\n",
        "\n",
        "# Date and time handling\n",
        "from datetime import datetime\n",
        "\n",
        "# Preprocessing\n",
        "from sklearn.preprocessing import LabelEncoder, MinMaxScaler\n",
        "\n",
        "# Model development\n",
        "from sklearn.model_selection import train_test_split\n",
        "from sklearn.linear_model import LinearRegression, Ridge, Lasso\n",
        "from sklearn.ensemble import RandomForestRegressor\n",
        "\n",
        "# Evaluation\n",
        "from sklearn.metrics import mean_squared_error, r2_score\n",
        "\n",
        "# Saving models and utilities\n",
        "import joblib\n",
        "import os\n"
      ]
    },
    {
      "cell_type": "markdown",
      "id": "41e48ca2",
      "metadata": {
        "id": "41e48ca2"
      },
      "source": [
        "## EDA"
      ]
    },
    {
      "cell_type": "code",
      "execution_count": 5,
      "id": "006e8159",
      "metadata": {
        "colab": {
          "base_uri": "https://localhost:8080/"
        },
        "id": "006e8159",
        "outputId": "a3e84f82-9799-4d6c-de40-3242939fb935"
      },
      "outputs": [
        {
          "output_type": "stream",
          "name": "stdout",
          "text": [
            "Shape: (22750, 9)\n",
            "\n",
            "Missing values:\n",
            " Employee ID                0\n",
            "Date of Joining            0\n",
            "Gender                     0\n",
            "Company Type               0\n",
            "WFH Setup Available        0\n",
            "Designation                0\n",
            "Resource Allocation     1381\n",
            "Mental Fatigue Score    2117\n",
            "Burn Rate               1124\n",
            "dtype: int64\n",
            "\n",
            "Descriptive statistics:\n",
            "                      Date of Joining   Designation  Resource Allocation  \\\n",
            "count                          22750  22750.000000         21369.000000   \n",
            "mean   2008-07-01 09:28:05.274725120      2.178725             4.481398   \n",
            "min              2008-01-01 00:00:00      0.000000             1.000000   \n",
            "25%              2008-04-01 00:00:00      1.000000             3.000000   \n",
            "50%              2008-07-02 00:00:00      2.000000             4.000000   \n",
            "75%              2008-09-30 00:00:00      3.000000             6.000000   \n",
            "max              2008-12-31 00:00:00      5.000000            10.000000   \n",
            "std                              NaN      1.135145             2.047211   \n",
            "\n",
            "       Mental Fatigue Score     Burn Rate   Tenure  \n",
            "count          20633.000000  21626.000000  22750.0  \n",
            "mean               5.728188      0.452005     17.0  \n",
            "min                0.000000      0.000000     17.0  \n",
            "25%                4.600000      0.310000     17.0  \n",
            "50%                5.900000      0.450000     17.0  \n",
            "75%                7.100000      0.590000     17.0  \n",
            "max               10.000000      1.000000     17.0  \n",
            "std                1.920839      0.198226      0.0  \n",
            "EDA plots saved in 'eda_outputs/' folder.\n"
          ]
        }
      ],
      "source": [
        "# Load dataset\n",
        "df = pd.read_csv(\"train.csv\")\n",
        "\n",
        "# Basic info\n",
        "print(\"Shape:\", df.shape)\n",
        "print(\"\\nMissing values:\\n\", df.isnull().sum())\n",
        "\n",
        "# Convert 'Date of Joining' to datetime and derive 'Tenure'\n",
        "df['Date of Joining'] = pd.to_datetime(df['Date of Joining'], errors='coerce')\n",
        "df['Tenure'] = pd.to_datetime('today').year - df['Date of Joining'].dt.year\n",
        "\n",
        "# Drop 'Employee ID' (not useful for modeling)\n",
        "df.drop(columns=['Employee ID'], inplace=True)\n",
        "\n",
        "# Basic stats\n",
        "print(\"\\nDescriptive statistics:\\n\", df.describe())\n",
        "\n",
        "# Create output directory for plots\n",
        "os.makedirs(\"eda_outputs\", exist_ok=True)\n",
        "\n",
        "# Distribution of Burn Rate\n",
        "plt.figure(figsize=(8, 4))\n",
        "sns.histplot(df['Burn Rate'].dropna(), kde=True, color='orange')\n",
        "plt.title(\"Distribution of Burn Rate\")\n",
        "plt.savefig(\"eda_outputs/burn_rate_distribution.png\")\n",
        "plt.close()\n",
        "\n",
        "# Burn Rate vs Mental Fatigue Score\n",
        "plt.figure(figsize=(8, 4))\n",
        "sns.scatterplot(data=df, x=\"Mental Fatigue Score\", y=\"Burn Rate\", hue=\"Gender\")\n",
        "plt.title(\"Burn Rate vs Mental Fatigue Score\")\n",
        "plt.savefig(\"eda_outputs/burnrate_vs_fatigue.png\")\n",
        "plt.close()\n",
        "\n",
        "# Box plot of Burn Rate by Designation\n",
        "plt.figure(figsize=(8, 4))\n",
        "sns.boxplot(x='Designation', y='Burn Rate', data=df)\n",
        "plt.title(\"Burn Rate by Designation\")\n",
        "plt.savefig(\"eda_outputs/burnrate_by_designation.png\")\n",
        "plt.close()\n",
        "\n",
        "# Burn Rate by Company Type\n",
        "plt.figure(figsize=(8, 4))\n",
        "sns.boxplot(x='Company Type', y='Burn Rate', data=df)\n",
        "plt.title(\"Burn Rate by Company Type\")\n",
        "plt.savefig(\"eda_outputs/burnrate_by_company_type.png\")\n",
        "plt.close()\n",
        "\n",
        "# Heatmap for correlations\n",
        "plt.figure(figsize=(10, 6))\n",
        "sns.heatmap(df.corr(numeric_only=True), annot=True, cmap='coolwarm')\n",
        "plt.title(\"Correlation Heatmap\")\n",
        "plt.savefig(\"eda_outputs/correlation_heatmap.png\")\n",
        "plt.close()\n",
        "\n",
        "print(\"EDA plots saved in 'eda_outputs/' folder.\")"
      ]
    },
    {
      "cell_type": "markdown",
      "id": "7e385869",
      "metadata": {
        "id": "7e385869"
      },
      "source": [
        "## Feature Engineering"
      ]
    },
    {
      "cell_type": "code",
      "execution_count": 6,
      "id": "473f0bf1",
      "metadata": {
        "colab": {
          "base_uri": "https://localhost:8080/"
        },
        "id": "473f0bf1",
        "outputId": "a42fef51-0893-45ca-a726-dfe5f727c8be"
      },
      "outputs": [
        {
          "output_type": "stream",
          "name": "stdout",
          "text": [
            "✅ Preprocessing complete. Files saved in 'processed'.\n"
          ]
        }
      ],
      "source": [
        "def load_data(train_path='train.csv', test_path='test.csv'):\n",
        "    return pd.read_csv(train_path), pd.read_csv(test_path)\n",
        "\n",
        "def encode_categoricals(train_df, test_df, columns, save_dir='models'):\n",
        "    encoders = {}\n",
        "    for col in columns:\n",
        "        le = LabelEncoder()\n",
        "        combined = pd.concat([train_df[col], test_df[col]], axis=0).astype(str)\n",
        "        le.fit(combined)\n",
        "        train_df[col] = le.transform(train_df[col].astype(str))\n",
        "        test_df[col] = le.transform(test_df[col].astype(str))\n",
        "        encoders[col] = le\n",
        "        joblib.dump(le, f\"{save_dir}/{col}_encoder.pkl\")\n",
        "    return train_df, test_df\n",
        "\n",
        "def fill_missing_values(df):\n",
        "    # Avoid chained assignment: assign result directly back to the column\n",
        "    df['Mental Fatigue Score'] = df['Mental Fatigue Score'].fillna(df['Mental Fatigue Score'].mean())\n",
        "    df['Resource Allocation'] = df['Resource Allocation'].fillna(df['Resource Allocation'].median())\n",
        "    return df\n",
        "\n",
        "def calculate_tenure(join_date):\n",
        "    if pd.isnull(join_date):\n",
        "        return np.nan\n",
        "    return (datetime.now() - pd.to_datetime(join_date)).days // 365\n",
        "\n",
        "def add_tenure_feature(df):\n",
        "    df['Tenure'] = df['Date of Joining'].apply(calculate_tenure)\n",
        "    return df.drop(columns=['Date of Joining'])\n",
        "\n",
        "def normalize_columns(train_df, test_df, columns, save_dir='models'):\n",
        "    scaler = MinMaxScaler()\n",
        "    train_df[columns] = scaler.fit_transform(train_df[columns])\n",
        "    test_df[columns] = scaler.transform(test_df[columns])\n",
        "    joblib.dump(scaler, f\"{save_dir}/scaler.pkl\")\n",
        "    return train_df, test_df\n",
        "\n",
        "def save_processed(train_df, test_df, output_dir='processed'):\n",
        "    os.makedirs(output_dir, exist_ok=True)\n",
        "    train_df.to_csv(f\"{output_dir}/train_processed.csv\", index=False)\n",
        "    test_df.to_csv(f\"{output_dir}/test_processed.csv\", index=False)\n",
        "    print(f\"✅ Preprocessing complete. Files saved in '{output_dir}'.\")\n",
        "\n",
        "def preprocess():\n",
        "    os.makedirs(\"models\", exist_ok=True)\n",
        "\n",
        "    train_df, test_df = load_data()\n",
        "\n",
        "    # Encode categoricals\n",
        "    cat_cols = ['Gender', 'Company Type', 'WFH Setup Available']\n",
        "    train_df, test_df = encode_categoricals(train_df, test_df, cat_cols)\n",
        "\n",
        "    # Handle missing\n",
        "    train_df = fill_missing_values(train_df)\n",
        "    test_df = fill_missing_values(test_df)\n",
        "\n",
        "    # Add tenure\n",
        "    train_df = add_tenure_feature(train_df)\n",
        "    test_df = add_tenure_feature(test_df)\n",
        "\n",
        "    # Normalize\n",
        "    num_cols = ['Resource Allocation', 'Designation', 'Tenure']\n",
        "    train_df, test_df = normalize_columns(train_df, test_df, num_cols)\n",
        "\n",
        "    # Save results\n",
        "    save_processed(train_df, test_df)\n",
        "\n",
        "if __name__ == \"__main__\":\n",
        "    preprocess()\n"
      ]
    },
    {
      "cell_type": "markdown",
      "id": "2cf0bdc9",
      "metadata": {
        "id": "2cf0bdc9"
      },
      "source": [
        "## Model Development"
      ]
    },
    {
      "cell_type": "code",
      "execution_count": 7,
      "id": "b295091e",
      "metadata": {
        "colab": {
          "base_uri": "https://localhost:8080/"
        },
        "id": "b295091e",
        "outputId": "6b46e346-a1d1-4189-97f0-bae5e9cc6d65"
      },
      "outputs": [
        {
          "output_type": "stream",
          "name": "stdout",
          "text": [
            "\n",
            "Training LinearRegression...\n",
            "LinearRegression MSE: 0.0050\n",
            "LinearRegression R²: 0.8682\n",
            "LinearRegression saved to models/linearregression.pkl\n",
            "\n",
            "Training Ridge...\n",
            "Ridge MSE: 0.0050\n",
            "Ridge R²: 0.8682\n",
            "Ridge saved to models/ridge.pkl\n",
            "\n",
            "Training Lasso...\n",
            "Lasso MSE: 0.0103\n",
            "Lasso R²: 0.7285\n",
            "Lasso saved to models/lasso.pkl\n",
            "\n",
            "Training RandomForest...\n",
            "RandomForest MSE: 0.0042\n",
            "RandomForest R²: 0.8889\n",
            "RandomForest saved to models/randomforest.pkl\n",
            "\n",
            "✅ Best model is RandomForest with MSE: 0.0042\n",
            "📦 Saved as models/best_model.pkl\n"
          ]
        }
      ],
      "source": [
        "# Create models directory if not exists\n",
        "os.makedirs('models', exist_ok=True)\n",
        "\n",
        "# Load processed training data\n",
        "train_df = pd.read_csv('processed/train_processed.csv')\n",
        "\n",
        "# Drop rows where target is missing\n",
        "train_df = train_df.dropna(subset=['Burn Rate'])\n",
        "\n",
        "# Separate features and target\n",
        "X = train_df.drop(columns=['Burn Rate', 'Employee ID'])\n",
        "y = train_df['Burn Rate']\n",
        "\n",
        "# Train-test split\n",
        "X_train, X_val, y_train, y_val = train_test_split(X, y, test_size=0.2, random_state=42)\n",
        "\n",
        "# Define models\n",
        "models = {\n",
        "    'LinearRegression': LinearRegression(),\n",
        "    'Ridge': Ridge(alpha=1.0),\n",
        "    'Lasso': Lasso(alpha=0.1),\n",
        "    'RandomForest': RandomForestRegressor(n_estimators=100, random_state=42)\n",
        "}\n",
        "\n",
        "best_model = None\n",
        "best_model_name = \"\"\n",
        "best_mse = float('inf')\n",
        "\n",
        "# Train, evaluate, and save models\n",
        "for name, model in models.items():\n",
        "    print(f\"\\nTraining {name}...\")\n",
        "    model.fit(X_train, y_train)\n",
        "\n",
        "    # Predict on validation set\n",
        "    y_pred = model.predict(X_val)\n",
        "\n",
        "    # Evaluate\n",
        "    mse = mean_squared_error(y_val, y_pred)\n",
        "    r2 = r2_score(y_val, y_pred)\n",
        "    print(f\"{name} MSE: {mse:.4f}\")\n",
        "    print(f\"{name} R²: {r2:.4f}\")\n",
        "\n",
        "    # Save model\n",
        "    model_path = f'models/{name.lower()}.pkl'\n",
        "    joblib.dump(model, model_path)\n",
        "    print(f\"{name} saved to {model_path}\")\n",
        "\n",
        "    # Track best model\n",
        "    if mse < best_mse:\n",
        "        best_mse = mse\n",
        "        best_model = model\n",
        "        best_model_name = name\n",
        "\n",
        "# Save the best model separately\n",
        "if best_model:\n",
        "    best_model_path = 'models/best_model.pkl'\n",
        "    joblib.dump(best_model, best_model_path)\n",
        "    print(f\"\\n✅ Best model is {best_model_name} with MSE: {best_mse:.4f}\")\n",
        "    print(f\"📦 Saved as {best_model_path}\")\n"
      ]
    },
    {
      "cell_type": "markdown",
      "id": "a2da23c9",
      "metadata": {
        "id": "a2da23c9"
      },
      "source": [
        "## Predictions based on the best model"
      ]
    },
    {
      "cell_type": "code",
      "execution_count": 8,
      "id": "fd15f796",
      "metadata": {
        "colab": {
          "base_uri": "https://localhost:8080/"
        },
        "id": "fd15f796",
        "outputId": "ab1fbc42-9e1a-4953-82d4-b215dd2f5f5b"
      },
      "outputs": [
        {
          "output_type": "stream",
          "name": "stdout",
          "text": [
            "✅ Submission file saved to 'submissions/predicted_burn_rate.csv'\n"
          ]
        }
      ],
      "source": [
        "# === Load processed test data ===\n",
        "test_df = pd.read_csv('processed/test_processed.csv')\n",
        "\n",
        "# Keep track of Employee IDs for submission\n",
        "employee_ids = test_df['Employee ID'].copy()\n",
        "\n",
        "# Drop ID column before prediction\n",
        "X_test = test_df.drop(columns=['Employee ID'])\n",
        "\n",
        "# === Load the best model ===\n",
        "model = joblib.load('models/best_model.pkl')\n",
        "\n",
        "# === Make predictions ===\n",
        "preds = model.predict(X_test)\n",
        "\n",
        "# Clip predictions between 0 and 1\n",
        "preds = preds.clip(0, 1)\n",
        "\n",
        "# === Create submission DataFrame ===\n",
        "submission = pd.DataFrame({\n",
        "    'Employee ID': employee_ids,\n",
        "    'Burn Rate': preds\n",
        "})\n",
        "\n",
        "# === Save to CSV ===\n",
        "os.makedirs('submissions', exist_ok=True)\n",
        "submission_path = 'submissions/predicted_burn_rate.csv'\n",
        "submission.to_csv(submission_path, index=False)\n",
        "\n",
        "print(f\"✅ Submission file saved to '{submission_path}'\")\n"
      ]
    },
    {
      "cell_type": "markdown",
      "id": "6cf34ab1",
      "metadata": {
        "id": "6cf34ab1"
      },
      "source": [
        "## Insights"
      ]
    },
    {
      "cell_type": "code",
      "execution_count": 9,
      "id": "e61f71e2",
      "metadata": {
        "id": "e61f71e2"
      },
      "outputs": [],
      "source": [
        "# insights_phase5.py\n",
        "\n",
        "import pandas as pd\n",
        "import joblib\n",
        "import matplotlib.pyplot as plt\n",
        "import seaborn as sns\n",
        "import os\n",
        "\n",
        "# === Ensure folders exist ===\n",
        "os.makedirs('models', exist_ok=True)\n",
        "os.makedirs('output_graphs/insights', exist_ok=True)\n",
        "\n",
        "# === Load trained model and processed training data ===\n",
        "model = joblib.load('models/randomforest.pkl')\n",
        "df = pd.read_csv('processed/train_processed.csv')\n",
        "\n",
        "# === Prepare features (excluding target and ID) ===\n",
        "X = df.drop(columns=['Employee ID', 'Burn Rate'])\n",
        "\n",
        "# === Feature importance extraction from RandomForest ===\n",
        "importances = model.feature_importances_\n",
        "features = X.columns\n",
        "\n",
        "feat_df = pd.DataFrame({'Feature': features, 'Importance': importances})\n",
        "feat_df = feat_df.sort_values(by='Importance', ascending=False)\n",
        "\n",
        "# === Save feature importance to CSV ===\n",
        "feat_df.to_csv('models/feature_importances.csv', index=False)\n",
        "\n",
        "# === Plot and save feature importance chart ===\n",
        "plt.figure(figsize=(10, 6))\n",
        "sns.barplot(x='Importance', y='Feature', data=feat_df)\n",
        "plt.title('Feature Importance from Random Forest')\n",
        "plt.xlabel('Importance Score')\n",
        "plt.ylabel('Feature')\n",
        "plt.tight_layout()\n",
        "\n",
        "# Save plot to insights subfolder\n",
        "plot_path = 'output_graphs/insights/feature_importance_plot.png'\n",
        "plt.savefig(plot_path)\n",
        "plt.close()\n",
        "\n",
        "\n"
      ]
    },
    {
      "cell_type": "markdown",
      "id": "76224cae",
      "metadata": {
        "id": "76224cae"
      },
      "source": [
        "# === Recommendations based on top features ===\n",
        "\"\"\"\n",
        "# 🔍 RECOMMENDATIONS BASED ON INSIGHTS\n",
        "\n",
        "1. **Mental Fatigue Mitigation**\n",
        "   - Mental Fatigue Score is the top predictor of Burnout.\n",
        "   - ✅ Action: Implement wellness programs, mindfulness sessions, and encourage time-off.\n",
        "\n",
        "2. **Review Resource Allocation**\n",
        "   - High allocation correlates with burnout.\n",
        "   - ✅ Action: Track and rebalance workloads, especially among lower designations.\n",
        "\n",
        "3. **Enable Remote Work Options**\n",
        "   - 'WFH Setup Available' influences burnout likelihood.\n",
        "   - ✅ Action: Provide or improve remote setups and policies.\n",
        "\n",
        "4. **Designation Sensitivity**\n",
        "   - Junior staff (Designation 0–2) are more burnout-prone.\n",
        "   - ✅ Action: Offer mentorship, manageable workloads, and growth pathways.\n",
        "\n",
        "5. **Gender and Company-Type Patterns**\n",
        "   - Some demographic segments show consistent trends.\n",
        "   - ✅ Action: Investigate HR policy adjustments to support underrepresented or at-risk groups.\n",
        "\n",
        "# 📦 OUTPUTS SAVED:\n",
        "- models/feature_importances.csv\n",
        "- output_graphs/insights/feature_importance_plot.png\n",
        "\"\"\""
      ]
    }
  ],
  "metadata": {
    "language_info": {
      "name": "python"
    },
    "colab": {
      "provenance": [],
      "include_colab_link": true
    },
    "kernelspec": {
      "name": "python3",
      "display_name": "Python 3"
    }
  },
  "nbformat": 4,
  "nbformat_minor": 5
}